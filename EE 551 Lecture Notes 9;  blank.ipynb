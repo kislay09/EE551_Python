{
 "cells": [
  {
   "cell_type": "markdown",
   "metadata": {},
   "source": [
    "### Write a ``Point`` class that takes x and y values and overwrite the print method so that the class prints (x, y) when called. The default values are 0."
   ]
  },
  {
   "cell_type": "code",
   "execution_count": 19,
   "metadata": {},
   "outputs": [
    {
     "name": "stdout",
     "output_type": "stream",
     "text": [
      "(3,5)\n"
     ]
    }
   ],
   "source": [
    "class Point:\n",
    "    def __init__(self,x=0,y=0):\n",
    "        self.x=x\n",
    "        self.y=y\n",
    "        \n",
    "    def __str__(self):\n",
    "        return \"(\"+str(self.x)+\",\"+str(self.y)+\")\"\n",
    "\n",
    "point=Point(3,5)\n",
    "print(point)"
   ]
  },
  {
   "cell_type": "markdown",
   "metadata": {},
   "source": [
    "### Write a method for class ``Point`` that overwrites + so that it takes another ``Point`` class and return a class whose x and y values are summation of x and y attributes of two classes, respectively."
   ]
  },
  {
   "cell_type": "code",
   "execution_count": 20,
   "metadata": {},
   "outputs": [
    {
     "name": "stdout",
     "output_type": "stream",
     "text": [
      "(8,11)\n"
     ]
    }
   ],
   "source": [
    "class Point:\n",
    "    def __init__(self,x=0,y=0):\n",
    "        self.x=x\n",
    "        self.y=y\n",
    "        \n",
    "    def __str__(self):\n",
    "        return \"(\"+str(self.x)+\",\"+str(self.y)+\")\"\n",
    "    \n",
    "    def __add__(self,other):\n",
    "        return Point(self.x+other.x,self.y+other.y)\n",
    "\n",
    "p1=Point(3,4)\n",
    "p2=Point(5,7)\n",
    "p3=p1+p2\n",
    "print(p3)"
   ]
  },
  {
   "cell_type": "markdown",
   "metadata": {},
   "source": [
    "### Write a method for class ``Point`` that overwrites * operator and returns dot product of two points."
   ]
  },
  {
   "cell_type": "code",
   "execution_count": 27,
   "metadata": {},
   "outputs": [
    {
     "name": "stdout",
     "output_type": "stream",
     "text": [
      "43\n"
     ]
    }
   ],
   "source": [
    "class Point:\n",
    "    def __init__(self,x=0,y=0):\n",
    "        self.x=x\n",
    "        self.y=y\n",
    "        \n",
    "    def __str__(self):\n",
    "        return \"(\"+str(self.x)+\",\"+str(self.y)+\")\"\n",
    "    \n",
    "    def __add__(self,other):\n",
    "        return Point(self.x+other.x,self.y+other.y)\n",
    "\n",
    "    def __mul__(self,other):\n",
    "        return (self.x*other.x + self.y*other.y)\n",
    "\n",
    "p1=Point(3,4)\n",
    "p2=Point(5,7)\n",
    "p3=p1*p2\n",
    "print(p3)"
   ]
  },
  {
   "cell_type": "markdown",
   "metadata": {},
   "source": [
    "## Card Objects:"
   ]
  },
  {
   "cell_type": "markdown",
   "metadata": {},
   "source": [
    "There are 52 cards in a deck, each of which belongs to one of four suits and one of 13 ranks.\n",
    "\n",
    "The suits are Spades, Hearts, Diamonds, and Clubs (in descending order in bridge).\n",
    "The ranks are Ace, 2, 3, 4, 5, 6, 7, 8, 9, 10, Jack, Queen, and King."
   ]
  },
  {
   "cell_type": "markdown",
   "metadata": {},
   "source": [
    "If we want to define a new object to represent a playing card, it should have attributes for rank and suit."
   ]
  },
  {
   "cell_type": "markdown",
   "metadata": {},
   "source": [
    "Should we use strings? Numbers?\n",
    "\n",
    "Ans: Numbers!"
   ]
  },
  {
   "cell_type": "markdown",
   "metadata": {},
   "source": [
    "Encoding:\n",
    "\n",
    "* Spades => 3\n",
    "* Hearts => 2\n",
    "* Diamonds => 1\n",
    "* Clubs => 0\n",
    "\n",
    "* Ace => 1\n",
    "* Jack => 11\n",
    "* Queen => 12\n",
    "* King => 13"
   ]
  },
  {
   "cell_type": "markdown",
   "metadata": {},
   "source": [
    "### Define a class ``Card`` that takes ``suit`` and ``rank`` as input and creates attributes for those. The default values for ``suit`` is 0 and for ``rank`` is 2."
   ]
  },
  {
   "cell_type": "code",
   "execution_count": 45,
   "metadata": {},
   "outputs": [],
   "source": [
    "class Card:\n",
    "    def __init__(self,suit = 0, rank=2):\n",
    "        self.suit=suit\n",
    "        self.rank=rank\n",
    "    \n",
    "c1=Card(3,3)\n"
   ]
  },
  {
   "cell_type": "markdown",
   "metadata": {},
   "source": [
    "### Overwrite ``print`` method so that people can easily read the card such as: 6 of Clubs, King of Diamonds."
   ]
  },
  {
   "cell_type": "code",
   "execution_count": 1,
   "metadata": {},
   "outputs": [
    {
     "name": "stdout",
     "output_type": "stream",
     "text": [
      "2 of Hearts\n"
     ]
    }
   ],
   "source": [
    "class Card:\n",
    "    suit_list = [\"Clubs\",\"Diamonds\",\"Hearts\",\"Spades\"]\n",
    "    rank_list = [\"None\", \"Ace\", \"2\",\"3\",\"4\",\"5\",\"6\",\"7\",\"8\",\"9\",\"10\",\"Jack\",\"Queen\",\"King\"]\n",
    "    def __init__(self,suit = 0, rank=2):\n",
    "        self.suit=suit\n",
    "        self.rank=rank\n",
    "    \n",
    "    def __str__(self):\n",
    "        return (self.rank_list[self.rank] + \" of \" + self.suit_list[self.suit])\n",
    "    \n",
    "my_card = Card(2,2)\n",
    "print(my_card)"
   ]
  },
  {
   "cell_type": "markdown",
   "metadata": {},
   "source": [
    "### Overwrite ``__gt__`` and ``__eq__`` that compares ``self`` and ``other``. Assume ``suit`` is more important than ``rank``."
   ]
  },
  {
   "cell_type": "code",
   "execution_count": 49,
   "metadata": {},
   "outputs": [
    {
     "name": "stdout",
     "output_type": "stream",
     "text": [
      "c1 equals c2 is  False\n",
      "c1 greater than c2 is  True\n"
     ]
    }
   ],
   "source": [
    "class Card:\n",
    "    suit_list = [\"Clubs\",\"Diamonds\",\"Hearts\",\"Spades\"]\n",
    "    rank_list = [\"None\", \"Ace\", \"2\",\"3\",\"4\",\"5\",\"6\",\"7\",\"8\",\"9\",\"10\",\"Jack\",\"Queen\",\"King\"]\n",
    "    def __init__(self,suit = 0, rank=2):\n",
    "        self.suit=suit\n",
    "        self.rank=rank\n",
    "    \n",
    "    def __str__(self):\n",
    "        return (self.rank_list[self.rank] + \" of \" + self.suit_list[self.suit])\n",
    "    \n",
    "    def __eq__(self,other):\n",
    "        return (self.rank == other.rank and self.suit == other.suit)\n",
    "    \n",
    "    def __gt__(self,other):\n",
    "        if self.suit > other.suit:\n",
    "            return True\n",
    "        elif self.suit == other.suit:\n",
    "            if self.rank > other.rank:\n",
    "                return True #''' bridge game C>D>H>S'''\n",
    "        return False\n",
    "\n",
    "c1 = Card(3,6)\n",
    "c2 = Card(3,5)\n",
    "\n",
    "print(\"c1 equals c2 is \", c1==c2)\n",
    "\n",
    "c1 = Card(2,5)\n",
    "c2 = Card(2,4)\n",
    "\n",
    "print(\"c1 greater than c2 is \",c1>c2)"
   ]
  },
  {
   "cell_type": "markdown",
   "metadata": {},
   "source": [
    "### Define a class ``Deck`` that has the attribute cards and the initialization generates 52 cards."
   ]
  },
  {
   "cell_type": "code",
   "execution_count": 4,
   "metadata": {},
   "outputs": [
    {
     "name": "stdout",
     "output_type": "stream",
     "text": [
      "number of cards in our deck is  52\n"
     ]
    }
   ],
   "source": [
    "class Deck:\n",
    "    def __init__(self):\n",
    "        self.cards = []\n",
    "        for suit in range(4):\n",
    "            for rank in range(1,14):\n",
    "                self.cards.append(Card(suit,rank))\n",
    "d= Deck()\n",
    "print(\"number of cards in our deck is \", len(d.cards))"
   ]
  },
  {
   "cell_type": "markdown",
   "metadata": {},
   "source": [
    "### Overwrite ``print`` method to print the contents of the deck so that each card is indented one space more than the previous card."
   ]
  },
  {
   "cell_type": "code",
   "execution_count": 4,
   "metadata": {},
   "outputs": [
    {
     "name": "stdout",
     "output_type": "stream",
     "text": [
      "Ace of Clubs\n",
      " 2 of Clubs\n",
      "  3 of Clubs\n",
      "   4 of Clubs\n",
      "    5 of Clubs\n",
      "     6 of Clubs\n",
      "      7 of Clubs\n",
      "       8 of Clubs\n",
      "        9 of Clubs\n",
      "         10 of Clubs\n",
      "          Jack of Clubs\n",
      "           Queen of Clubs\n",
      "            King of Clubs\n",
      "             Ace of Diamonds\n",
      "              2 of Diamonds\n",
      "               3 of Diamonds\n",
      "                4 of Diamonds\n",
      "                 5 of Diamonds\n",
      "                  6 of Diamonds\n",
      "                   7 of Diamonds\n",
      "                    8 of Diamonds\n",
      "                     9 of Diamonds\n",
      "                      10 of Diamonds\n",
      "                       Jack of Diamonds\n",
      "                        Queen of Diamonds\n",
      "                         King of Diamonds\n",
      "                          Ace of Hearts\n",
      "                           2 of Hearts\n",
      "                            3 of Hearts\n",
      "                             4 of Hearts\n",
      "                              5 of Hearts\n",
      "                               6 of Hearts\n",
      "                                7 of Hearts\n",
      "                                 8 of Hearts\n",
      "                                  9 of Hearts\n",
      "                                   10 of Hearts\n",
      "                                    Jack of Hearts\n",
      "                                     Queen of Hearts\n",
      "                                      King of Hearts\n",
      "                                       Ace of Spades\n",
      "                                        2 of Spades\n",
      "                                         3 of Spades\n",
      "                                          4 of Spades\n",
      "                                           5 of Spades\n",
      "                                            6 of Spades\n",
      "                                             7 of Spades\n",
      "                                              8 of Spades\n",
      "                                               9 of Spades\n",
      "                                                10 of Spades\n",
      "                                                 Jack of Spades\n",
      "                                                  Queen of Spades\n",
      "                                                   King of Spades\n",
      "\n"
     ]
    }
   ],
   "source": [
    "class Deck:\n",
    "    def __init__(self):\n",
    "        self.cards = []\n",
    "        for suit in range(4):\n",
    "            for rank in range(1,14):\n",
    "                self.cards.append(Card(suit,rank))\n",
    "    def __str__(self):\n",
    "        s=\"\"\n",
    "        for i in range(len(self.cards)):\n",
    "            s +=i*\" \" + str(self.cards[i]) + \"\\n\"\n",
    "        return s\n",
    "d=Deck()\n",
    "print(d)"
   ]
  },
  {
   "cell_type": "markdown",
   "metadata": {},
   "source": [
    "### Write a method ``shuffle`` that shuffles the cards in a deck. You can use ``randrange`` from ``random`` module."
   ]
  },
  {
   "cell_type": "code",
   "execution_count": 21,
   "metadata": {},
   "outputs": [
    {
     "name": "stdout",
     "output_type": "stream",
     "text": [
      "5 of Spades\n",
      " Jack of Diamonds\n",
      "  Jack of Clubs\n",
      "   King of Diamonds\n",
      "    Jack of Spades\n",
      "     5 of Diamonds\n",
      "      Queen of Clubs\n",
      "       7 of Clubs\n",
      "        4 of Clubs\n",
      "         3 of Clubs\n",
      "          6 of Clubs\n",
      "           10 of Spades\n",
      "            9 of Clubs\n",
      "             4 of Hearts\n",
      "              3 of Spades\n",
      "               2 of Spades\n",
      "                2 of Clubs\n",
      "                 5 of Hearts\n",
      "                  Jack of Hearts\n",
      "                   7 of Spades\n",
      "                    10 of Clubs\n",
      "                     Ace of Hearts\n",
      "                      2 of Diamonds\n",
      "                       3 of Diamonds\n",
      "                        9 of Diamonds\n",
      "                         8 of Diamonds\n",
      "                          6 of Spades\n",
      "                           10 of Diamonds\n",
      "                            Ace of Spades\n",
      "                             7 of Hearts\n",
      "                              King of Clubs\n",
      "                               Queen of Spades\n",
      "                                Queen of Hearts\n",
      "                                 8 of Spades\n",
      "                                  5 of Clubs\n",
      "                                   9 of Hearts\n",
      "                                    King of Hearts\n",
      "                                     8 of Hearts\n",
      "                                      6 of Hearts\n",
      "                                       9 of Spades\n",
      "                                        4 of Spades\n",
      "                                         10 of Hearts\n",
      "                                          8 of Clubs\n",
      "                                           7 of Diamonds\n",
      "                                            4 of Diamonds\n",
      "                                             Ace of Diamonds\n",
      "                                              Queen of Diamonds\n",
      "                                               King of Spades\n",
      "                                                3 of Hearts\n",
      "                                                 Ace of Clubs\n",
      "                                                  2 of Hearts\n",
      "                                                   6 of Diamonds\n",
      "\n"
     ]
    }
   ],
   "source": [
    "import random\n",
    "\n",
    "class Deck:\n",
    "    def __init__(self):\n",
    "        self.cards = []\n",
    "        for suit in range(4):\n",
    "            for rank in range(1,14):\n",
    "                self.cards.append(Card(suit,rank))\n",
    "    def __str__(self):\n",
    "        s=\"\"\n",
    "        for i in range(len(self.cards)):\n",
    "            s +=i*\" \" + str(self.cards[i]) + \"\\n\"\n",
    "        return s\n",
    "    def shuffle(self):\n",
    "        n_cards=len(self.cards)\n",
    "        for i in range(n_cards):\n",
    "            j=random.randrange(0,n_cards)\n",
    "            self.cards[i],self.cards[j] = self.cards[j],self.cards[i]\n",
    "            \n",
    "d=Deck()\n",
    "d.shuffle()\n",
    "print(d)"
   ]
  },
  {
   "cell_type": "code",
   "execution_count": null,
   "metadata": {},
   "outputs": [],
   "source": []
  },
  {
   "cell_type": "markdown",
   "metadata": {},
   "source": [
    "### Write method ``pop_card`` that removes the last card in the deck."
   ]
  },
  {
   "cell_type": "code",
   "execution_count": 5,
   "metadata": {},
   "outputs": [],
   "source": [
    "import random\n",
    "\n",
    "class Deck:\n",
    "    def __init__(self):\n",
    "        self.cards = []\n",
    "        for suit in range(4):\n",
    "            for rank in range(1,14):\n",
    "                self.cards.append(Card(suit,rank))\n",
    "    def __str__(self):\n",
    "        s=\"\"\n",
    "        for i in range(len(self.cards)):\n",
    "            s +=i*\" \" + str(self.cards[i]) + \"\\n\"\n",
    "        return s\n",
    "    def shuffle(self):\n",
    "        n_cards=len(self.cards)\n",
    "        for i in range(n_cards):\n",
    "            j=random.randrange(0,n_cards)\n",
    "            self.cards[i],self.cards[j] = self.cards[j],self.cards[i]\n",
    "    \n",
    "    def pop_card(self):\n",
    "        return self.card.pop()"
   ]
  },
  {
   "cell_type": "code",
   "execution_count": 7,
   "metadata": {},
   "outputs": [
    {
     "ename": "AttributeError",
     "evalue": "'Deck' object has no attribute 'pop'",
     "output_type": "error",
     "traceback": [
      "\u001b[0;31m---------------------------------------------------------------------------\u001b[0m",
      "\u001b[0;31mAttributeError\u001b[0m                            Traceback (most recent call last)",
      "\u001b[1;32m/Users/kislaynandan/Downloads/EE 551 Lecture Notes 9;  blank.ipynb Cell 37\u001b[0m in \u001b[0;36m<cell line: 5>\u001b[0;34m()\u001b[0m\n\u001b[1;32m      <a href='vscode-notebook-cell:/Users/kislaynandan/Downloads/EE%20551%20Lecture%20Notes%209%3B%20%20blank.ipynb#X51sZmlsZQ%3D%3D?line=0'>1</a>\u001b[0m \u001b[39m#test\u001b[39;00m\n\u001b[1;32m      <a href='vscode-notebook-cell:/Users/kislaynandan/Downloads/EE%20551%20Lecture%20Notes%209%3B%20%20blank.ipynb#X51sZmlsZQ%3D%3D?line=1'>2</a>\u001b[0m \u001b[39m#l=[1,2,3]\u001b[39;00m\n\u001b[1;32m      <a href='vscode-notebook-cell:/Users/kislaynandan/Downloads/EE%20551%20Lecture%20Notes%209%3B%20%20blank.ipynb#X51sZmlsZQ%3D%3D?line=2'>3</a>\u001b[0m \u001b[39m#l.pop()\u001b[39;00m\n\u001b[1;32m      <a href='vscode-notebook-cell:/Users/kislaynandan/Downloads/EE%20551%20Lecture%20Notes%209%3B%20%20blank.ipynb#X51sZmlsZQ%3D%3D?line=3'>4</a>\u001b[0m d\u001b[39m=\u001b[39mDeck()\n\u001b[0;32m----> <a href='vscode-notebook-cell:/Users/kislaynandan/Downloads/EE%20551%20Lecture%20Notes%209%3B%20%20blank.ipynb#X51sZmlsZQ%3D%3D?line=4'>5</a>\u001b[0m d\u001b[39m.\u001b[39;49mpop()\n\u001b[1;32m      <a href='vscode-notebook-cell:/Users/kislaynandan/Downloads/EE%20551%20Lecture%20Notes%209%3B%20%20blank.ipynb#X51sZmlsZQ%3D%3D?line=5'>6</a>\u001b[0m \u001b[39mprint\u001b[39m(d)\n",
      "\u001b[0;31mAttributeError\u001b[0m: 'Deck' object has no attribute 'pop'"
     ]
    }
   ],
   "source": [
    "#test\n",
    "#l=[1,2,3]\n",
    "#l.pop()\n",
    "d=Deck()\n",
    "d.pop()\n",
    "print(d)"
   ]
  },
  {
   "cell_type": "code",
   "execution_count": 24,
   "metadata": {},
   "outputs": [
    {
     "data": {
      "text/plain": [
       "[1, 2]"
      ]
     },
     "execution_count": 24,
     "metadata": {},
     "output_type": "execute_result"
    }
   ],
   "source": [
    "l"
   ]
  },
  {
   "cell_type": "markdown",
   "metadata": {},
   "source": [
    "### Write a method ``is_empty`` which returns True if the deck contains no cards."
   ]
  },
  {
   "cell_type": "code",
   "execution_count": 25,
   "metadata": {},
   "outputs": [],
   "source": [
    "import random\n",
    "\n",
    "class Deck:\n",
    "    def __init__(self):\n",
    "        self.cards = []\n",
    "        for suit in range(4):\n",
    "            for rank in range(1,14):\n",
    "                self.cards.append(Card(suit,rank))\n",
    "    def __str__(self):\n",
    "        s=\"\"\n",
    "        for i in range(len(self.cards)):\n",
    "            s +=i*\" \" + str(self.cards[i]) + \"\\n\"\n",
    "        return s\n",
    "    def shuffle(self):\n",
    "        n_cards=len(self.cards)\n",
    "        for i in range(n_cards):\n",
    "            j=random.randrange(0,n_cards)\n",
    "            self.cards[i],self.cards[j] = self.cards[j],self.cards[i]\n",
    "    \n",
    "    def pop_card(self):\n",
    "        return self.card.pop()\n",
    "    \n",
    "    def is_empty(self):\n",
    "        return len(self.cards) == 0"
   ]
  },
  {
   "cell_type": "markdown",
   "metadata": {},
   "source": [
    "### Write a class for hand that is similar to a deck but we might want to perform operations for hand that don't make sense for deck."
   ]
  },
  {
   "cell_type": "code",
   "execution_count": 26,
   "metadata": {},
   "outputs": [],
   "source": [
    "class Hand(Deck):\n",
    "    pass"
   ]
  },
  {
   "cell_type": "markdown",
   "metadata": {},
   "source": [
    "### Initialize the ``Hand`` with cards and names where name will be an input and default value is \"\"."
   ]
  },
  {
   "cell_type": "code",
   "execution_count": 27,
   "metadata": {},
   "outputs": [],
   "source": [
    "class Hand(Deck):\n",
    "    def __init__(self, name = \"\"):\n",
    "        self.cards = []\n",
    "        self.name = name"
   ]
  },
  {
   "cell_type": "markdown",
   "metadata": {},
   "source": [
    "### Write a method ``add_card`` that adds a card to the Hand."
   ]
  },
  {
   "cell_type": "code",
   "execution_count": 28,
   "metadata": {},
   "outputs": [],
   "source": [
    "class Hand(Deck):\n",
    "    def __init__(self, name = \"\"):\n",
    "        self.cards = []\n",
    "        self.name = name\n",
    "        \n",
    "    def add_card(self, card):\n",
    "        self.card.append(card)"
   ]
  },
  {
   "cell_type": "markdown",
   "metadata": {},
   "source": [
    "### Write a method for ``Deck`` class that deals the card into hands. It takes two arguments: hands and number of cards."
   ]
  },
  {
   "cell_type": "code",
   "execution_count": 29,
   "metadata": {},
   "outputs": [],
   "source": [
    "import random\n",
    "\n",
    "class Deck:\n",
    "    def __init__(self):\n",
    "        self.cards = []\n",
    "        for suit in range(4):\n",
    "            for rank in range(1,14):\n",
    "                self.cards.append(Card(suit,rank))\n",
    "    def __str__(self):\n",
    "        s=\"\"\n",
    "        for i in range(len(self.cards)):\n",
    "            s +=i*\" \" + str(self.cards[i]) + \"\\n\"\n",
    "        return s\n",
    "    def shuffle(self):\n",
    "        n_cards=len(self.cards)\n",
    "        for i in range(n_cards):\n",
    "            j=random.randrange(0,n_cards)\n",
    "            self.cards[i],self.cards[j] = self.cards[j],self.cards[i]\n",
    "    \n",
    "    def pop_card(self):\n",
    "        return self.cards.pop()\n",
    "    \n",
    "    def is_empty(self):\n",
    "        return len(self.cards) == 0\n",
    "    \n",
    "    def deal(self,hands, n_cards=52):\n",
    "        n_players=len(hands)\n",
    "        for i in range(n_cards):\n",
    "            if self.is_empty():\n",
    "                break\n",
    "            card = self.pop_card()\n",
    "            current_player = i % n_players\n",
    "            hands[current_player].add_card(card)\n",
    "            "
   ]
  },
  {
   "cell_type": "markdown",
   "metadata": {},
   "source": [
    "### Write a method for ``Hand`` that prints the hand such that \"Hand John contains ...\" or \"Hand John is empty\""
   ]
  },
  {
   "cell_type": "code",
   "execution_count": 35,
   "metadata": {},
   "outputs": [
    {
     "name": "stdout",
     "output_type": "stream",
     "text": [
      "Hand Kislay contains \n",
      "9 of Spades\n",
      " 9 of Hearts\n",
      "  6 of Spades\n",
      " Hand Keya contains \n",
      "Queen of Hearts\n",
      " King of Hearts\n",
      "  Queen of Clubs\n",
      "\n"
     ]
    }
   ],
   "source": [
    "class Hand(Deck):\n",
    "    def __init__(self, name = \"\"):\n",
    "        self.cards = []\n",
    "        self.name = name\n",
    "        \n",
    "    def add_card(self, card):\n",
    "        self.cards.append(card)\n",
    "        \n",
    "    def __str__(self):\n",
    "        s=\"Hand\" + self.name\n",
    "        if self.is_empty():\n",
    "            return s + \" is empty \"\n",
    "        s += \" contains \\n\" + Deck.__str__(self)\n",
    "        return s\n",
    "d = Deck()\n",
    "d.shuffle()\n",
    "hand = Hand(\" Kislay\")\n",
    "hand2 = Hand(\" Keya\") #new hand\n",
    "players = [hand, hand2] #new player\n",
    "d.deal(players, 6) # no of total card \n",
    "print(hand,hand2) #print new player"
   ]
  },
  {
   "cell_type": "markdown",
   "metadata": {},
   "source": [
    "### Write a ``CardGame`` class that creates a deck and shuffles it automatically."
   ]
  },
  {
   "cell_type": "code",
   "execution_count": 36,
   "metadata": {},
   "outputs": [],
   "source": [
    "class CardGame:\n",
    "    def __init__(self):\n",
    "        self.deck = Deck()\n",
    "        self.deck.shuffle"
   ]
  },
  {
   "cell_type": "markdown",
   "metadata": {},
   "source": [
    "# Old Maid Hand Game (May Not Cover In Class)"
   ]
  },
  {
   "cell_type": "markdown",
   "metadata": {},
   "source": [
    "https://www.youtube.com/watch?v=2k1pHpGPMdc"
   ]
  },
  {
   "cell_type": "markdown",
   "metadata": {},
   "source": [
    "![alt text](../figures/cards.png)"
   ]
  },
  {
   "cell_type": "markdown",
   "metadata": {},
   "source": [
    "The object of Old Maid is to get rid of cards in your hand. You do this by matching cards by rank and color. For example, the 4 of Clubs matches the 4 of Spades since both suits are black. The Jack of Hearts matches the Jack of Diamonds since both are red.\n",
    "\n",
    "To begin the game, the Queen of Clubs is removed from the deck so that the Queen of Spades has no match. The fifty-one remaining cards are dealt to the players in a round robin. After the deal, all players match and discard as many cards as possible."
   ]
  },
  {
   "cell_type": "markdown",
   "metadata": {},
   "source": [
    "### Define ``OldMaidHand`` class that requires some abilities beyond the general abilities of a Hand. Write a method called ``remove_matches`` and returns the number of matches."
   ]
  },
  {
   "cell_type": "code",
   "execution_count": null,
   "metadata": {},
   "outputs": [],
   "source": []
  },
  {
   "cell_type": "markdown",
   "metadata": {},
   "source": [
    "### Demonstrate how to start a game and remove matches."
   ]
  },
  {
   "cell_type": "code",
   "execution_count": null,
   "metadata": {},
   "outputs": [],
   "source": []
  },
  {
   "cell_type": "markdown",
   "metadata": {},
   "source": [
    "### Write a class ``OldMaidGame`` that inherits ``CardGame`` and has a method that removes all the matches in all hands. You can assume the class has ``self.hands`` attribute."
   ]
  },
  {
   "cell_type": "code",
   "execution_count": null,
   "metadata": {},
   "outputs": [],
   "source": []
  },
  {
   "cell_type": "markdown",
   "metadata": {},
   "source": [
    "### Write a method ``find_neighbor`` that takes turn as an integer input and returns the index for the neighbor index."
   ]
  },
  {
   "cell_type": "code",
   "execution_count": null,
   "metadata": {},
   "outputs": [],
   "source": []
  },
  {
   "cell_type": "markdown",
   "metadata": {},
   "source": [
    "### Write a method ``play_one_turn`` that takes an argument ``turn`` that indicates whose turn it is. The return value is the number of matches made during this turn."
   ]
  },
  {
   "cell_type": "code",
   "execution_count": null,
   "metadata": {},
   "outputs": [],
   "source": []
  },
  {
   "cell_type": "markdown",
   "metadata": {},
   "source": [
    "### Write a method ``print_hands`` to print hands of all players."
   ]
  },
  {
   "cell_type": "code",
   "execution_count": null,
   "metadata": {},
   "outputs": [],
   "source": []
  },
  {
   "cell_type": "markdown",
   "metadata": {},
   "source": [
    "### Write a method ``play`` that takes a list of names as an input; \n",
    "* removes Queen of Clubs, \n",
    "* makes a hand for each player\n",
    "* deals the cards; print \"cards have been dealt\"\n",
    "* prints hands\n",
    "* removes initial matches\n",
    "* prints hands\n",
    "* play until all 50 cards are matched\n",
    "* prints hands"
   ]
  },
  {
   "cell_type": "code",
   "execution_count": null,
   "metadata": {},
   "outputs": [],
   "source": []
  },
  {
   "cell_type": "code",
   "execution_count": null,
   "metadata": {},
   "outputs": [],
   "source": []
  },
  {
   "cell_type": "code",
   "execution_count": null,
   "metadata": {},
   "outputs": [],
   "source": []
  }
 ],
 "metadata": {
  "kernelspec": {
   "display_name": "Python 3 (ipykernel)",
   "language": "python",
   "name": "python3"
  },
  "language_info": {
   "codemirror_mode": {
    "name": "ipython",
    "version": 3
   },
   "file_extension": ".py",
   "mimetype": "text/x-python",
   "name": "python",
   "nbconvert_exporter": "python",
   "pygments_lexer": "ipython3",
   "version": "3.9.12"
  },
  "vscode": {
   "interpreter": {
    "hash": "a3cf6daa1d9f1916b036b585a9aa51aa594cc0a181a501cb707305ee3d926344"
   }
  }
 },
 "nbformat": 4,
 "nbformat_minor": 2
}
